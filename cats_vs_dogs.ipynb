{
 "cells": [
  {
   "cell_type": "markdown",
   "id": "bb2f3148",
   "metadata": {},
   "source": [
    "### Machine Learning Workshop example: Cats vs dogs\n",
    "\n",
    "This notebook shows how to train a convolutional neural network that distinguishes cats and dogs. \\\n",
    "For more information on image classification, check out this blog: [How to Classifiy Photos of Dogs and Cats (with 97% accuracy)](https://machinelearningmastery.com/how-to-develop-a-convolutional-neural-network-to-classify-photos-of-dogs-and-cats/)."
   ]
  },
  {
   "cell_type": "markdown",
   "id": "turkish-burke",
   "metadata": {},
   "source": [
    "### Setup\n",
    "\n",
    "Dataset is available on [Kaggle](https://www.kaggle.com/c/dogs-vs-cats) - download and extract a folder called `train/` in your working directory.  \n",
    "\n",
    "- create a conda environment with required packages (in console): `conda create -n ml_workshop2 tensorflow-gpu` \\\n",
    "This requires your GPU to be CUDA-enabled - you may have to install additional drivers depending on your hardware.\n",
    "- alternative: train using CPU (much slower): `conda create -n ml_workshop2 tensorflow`\n",
    "- Install remaining libraries:\n",
    "\n",
    "        conda activate ml_workshop2\n",
    "\t\tconda install keras scikit-learn ipykernel pillow\n",
    "        python -m ipykernel install --user --name ml_workshop2 --display-name \"ML Workshop - cats vs. dogs\"\n",
    "- run in local browser: `jupyter notebook`\n",
    "- Alternative: run in VSCode with Python and Jupyter notebook extensions\n"
   ]
  },
  {
   "cell_type": "code",
   "execution_count": null,
   "id": "7ba43bca",
   "metadata": {},
   "outputs": [],
   "source": [
    "# load dogs vs cats dataset \n",
    "from os import listdir\n",
    "from numpy import asarray\n",
    "from tensorflow.keras.utils import load_img\n",
    "from tensorflow.keras.utils import img_to_array\n",
    "import random\n",
    "\n",
    "random.seed(42)\n",
    "\n",
    "# dataset location - unpack train.zip from https://www.kaggle.com/c/dogs-vs-cats to this folder\n",
    "folder = 'train/'\n",
    "X, y = list(), list()\n",
    "image_size = (224, 224)\n",
    "\n",
    "progress = 0\n",
    "for file in listdir(folder):\n",
    "    if progress % 2500 == 0:\n",
    "        print(progress / 250, r\"% complete\")\n",
    "    \n",
    "    # determine class based on file name\n",
    "    output = 0.0\n",
    "    if file.startswith('cat'):\n",
    "        output = 1.0\n",
    "\n",
    "    photo = load_img(folder + file, target_size=image_size)\n",
    "\n",
    "    # convert to numpy array\n",
    "    photo = img_to_array(photo)\n",
    "    X.append(photo)\n",
    "    y.append(output)\n",
    "\n",
    "    progress += 1\n",
    "    \n",
    "# convert to a numpy arrays\n",
    "X = asarray(X)\n",
    "y = asarray(y)\n",
    "print(X.shape, y.shape)"
   ]
  },
  {
   "cell_type": "code",
   "execution_count": null,
   "id": "487e7d0e",
   "metadata": {},
   "outputs": [],
   "source": [
    "# resampling using simple train/test split\n",
    "import tensorflow\n",
    "from sklearn.model_selection import train_test_split\n",
    "\n",
    "X_train, X_test, y_train, y_test = train_test_split(X, y, test_size=0.20)"
   ]
  },
  {
   "cell_type": "code",
   "execution_count": null,
   "id": "706bf719",
   "metadata": {},
   "outputs": [],
   "source": [
    "# we are using a pre-trained image classification model here and fine-tuning on our dataset\n",
    "# for more information about the general procedure, see https://en.wikipedia.org/wiki/Transfer_learning\n",
    "# for information about the base model, see https://keras.io/api/applications/vgg/\n",
    "\n",
    "def define_transfer_learning_model():\n",
    "    # load model\n",
    "    model = tensorflow.keras.applications.VGG16(include_top=False, input_shape=(224, 224, 3))\n",
    "    # mark loaded layers as not trainable\n",
    "    for layer in model.layers:\n",
    "        layer.trainable = False\n",
    "    # add new classifier layers\n",
    "    flat1 = tensorflow.keras.layers.Flatten()(model.layers[-1].output)\n",
    "    class1 = tensorflow.keras.layers.Dense(128, activation='relu', kernel_initializer='he_uniform')(flat1)\n",
    "    output = tensorflow.keras.layers.Dense(1, activation='sigmoid')(class1)\n",
    "    # define new model\n",
    "    model = tensorflow.keras.Model(inputs=model.inputs, outputs=output)\n",
    "    # compile model\n",
    "    opt = tensorflow.keras.optimizers.SGD(learning_rate=0.001, momentum=0.9)\n",
    "    model.compile(optimizer=opt, loss='binary_crossentropy', metrics=['accuracy'])\n",
    "    return model\n",
    "\n",
    "transfer_learned_model = define_transfer_learning_model()"
   ]
  },
  {
   "cell_type": "code",
   "execution_count": null,
   "id": "e0ff4ede",
   "metadata": {},
   "outputs": [],
   "source": [
    "# bit of black magic - data is centered using the same method as in the original training of the VGG16 model\n",
    "datagen = tensorflow.keras.preprocessing.image.ImageDataGenerator(featurewise_center=True)\n",
    "datagen.mean = [123.68, 116.779, 103.939]\n",
    "\n",
    "# dataset does not fit into the memory of my GPU - load data in batches\n",
    "train_generator = datagen.flow(X_train, y_train)\n",
    "test_generator = datagen.flow(X_test, y_test)\n",
    "\n",
    "transfer_learned_model.fit(train_generator, steps_per_epoch=len(train_generator), validation_data=test_generator, validation_steps=len(test_generator), epochs=2, verbose=1)"
   ]
  }
 ],
 "metadata": {
  "interpreter": {
   "hash": "2b9617ca95a02f4bb5900eb5f27668a1c624d7d28861326e6b909778853290b4"
  },
  "kernelspec": {
   "display_name": "ML Workshop - cats vs. dogs",
   "language": "python",
   "name": "ml_workshop2"
  },
  "language_info": {
   "codemirror_mode": {
    "name": "ipython",
    "version": 3
   },
   "file_extension": ".py",
   "mimetype": "text/x-python",
   "name": "python",
   "nbconvert_exporter": "python",
   "pygments_lexer": "ipython3",
   "version": "3.9.12"
  }
 },
 "nbformat": 4,
 "nbformat_minor": 5
}
